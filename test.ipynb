{
 "cells": [
  {
   "cell_type": "code",
   "execution_count": 1,
   "metadata": {},
   "outputs": [],
   "source": [
    "from compress_vid import *\n",
    "\n",
    "testfile=\"./test/DJI_0021.MP4\"\n",
    "testdir=\"./test\""
   ]
  },
  {
   "cell_type": "code",
   "execution_count": 15,
   "metadata": {},
   "outputs": [],
   "source": [
    "def get_video_info(input_path):\n",
    "    # ffprobe command to get video codec, dimensions, bitrate, fps, duration, and file size\n",
    "    cmd = [\n",
    "        'ffprobe',\n",
    "        '-v', 'error',\n",
    "        '-select_streams', 'v:0',\n",
    "        '-show_entries', 'stream=codec_name,width,height,bit_rate,r_frame_rate',\n",
    "        '-show_entries', 'format=duration,size',  # Including format=size to get the file size\n",
    "        '-of', 'default=noprint_wrappers=1:nokey=1',\n",
    "        input_path\n",
    "    ]\n",
    "\n",
    "    # Execute the ffprobe command\n",
    "    output = subprocess.check_output(cmd).decode('utf-8').strip().split('\\n')\n",
    "\n",
    "    # Extracting the information from the output\n",
    "    video_codec = output[0]\n",
    "    width = output[1]\n",
    "    height = output[2]\n",
    "    bitrate = output[4]\n",
    "    fps_frac = output[3]\n",
    "    duration = float(output[5])\n",
    "    file_size = output[6]  # Corrected file size index\n",
    "\n",
    "    # Calculating FPS from the fractional representation\n",
    "    fps = \"N/A\"\n",
    "    if fps_frac:\n",
    "        try:\n",
    "            numerator, denominator = map(int, fps_frac.split('/'))\n",
    "            fps = round(float(numerator) / float(denominator), 2)\n",
    "        except ValueError:\n",
    "            # Handle the case where the FPS is not a fraction (which is rare)\n",
    "            fps = float(fps_frac)\n",
    "\n",
    "    # Formatting dimensions\n",
    "    dimensions = f\"{width}x{height}\"\n",
    "\n",
    "    # Formatting bitrate as Mb/s if bitrate is available\n",
    "    bitrate_mbps = \"N/A\"\n",
    "    if bitrate and bitrate.isdigit():\n",
    "        bitrate_mbps = round(int(bitrate) / 1e6, 1)\n",
    "\n",
    "    # Formatting file size as MB\n",
    "    size_mb = round(int(file_size) / 1e6, 1)\n",
    "\n",
    "    # Formatting duration as HH:MM:SS\n",
    "    duration_str = str(datetime.timedelta(seconds=duration))\n",
    "\n",
    "     # Constructing the dictionary with the video information\n",
    "    video_info = {\n",
    "        'video_codec': video_codec,\n",
    "        'dimensions': dimensions,\n",
    "        'bitrate_mbps': bitrate_mbps,\n",
    "        'fps': fps,\n",
    "        'duration_str': duration_str,\n",
    "        'size_mb': size_mb\n",
    "    }\n",
    "\n",
    "    # Returning the constructed dictionary\n",
    "    return video_info\n",
    "\n",
    "# get_video_info(testfile)\n",
    "\n",
    "def get_rating(file_path):\n",
    "    # Command to get the rating using exiftool\n",
    "    rating_cmd = ['exiftool', '-XMP:Rating', file_path]\n",
    "\n",
    "    # Run the command and capture the output\n",
    "    completed_process = subprocess.run(rating_cmd, stdout=subprocess.PIPE, text=True)\n",
    "\n",
    "    # Check if the command was successful\n",
    "    if completed_process.returncode == 0:\n",
    "        # Extract the rating from the output\n",
    "        output = completed_process.stdout.strip()\n",
    "\n",
    "        # Assume output format: \"XMP:Rating                        : <RatingValue>\"\n",
    "        # Split the output and get the last element, which should be the rating\n",
    "        rating = output.split(':')[-1].strip()\n",
    "\n",
    "        return rating\n",
    "    else:\n",
    "        # Handle error if exiftool failed\n",
    "        print(\"Error: exiftool did not complete successfully.\")\n",
    "        return None\n",
    "\n",
    "\n",
    "\n",
    "def get_export_settings(input_path):\n",
    "    # Use the get_video_info function to get video parameters\n",
    "    video_info = get_video_info(input_path)\n",
    "    dimensions = video_info['dimensions']\n",
    "    fps = video_info['fps']\n",
    "    codec = 'vt_h265'\n",
    "    # Default quality\n",
    "    quality = 'LQ'\n",
    "    # Update quality if rating is 4 or higher\n",
    "    if get_rating(input_path) >= 4:\n",
    "        quality = 'HQ'\n",
    "    \n",
    "    # Determine resolution based on dimensions\n",
    "    width, height = map(int, dimensions.split('x'))\n",
    "    print(width, height)\n",
    "    resolution = None\n",
    "    if (width >= 3840 and height >= 2160) or (width >= 2160 and height >= 3840):  # Handling both landscape and portrait 4K\n",
    "        resolution = '4k'\n",
    "    elif (width >= 1920 and height >= 1080) or (width >= 1080 and height >= 1920):  # Handling both landscape and portrait 1080p\n",
    "        resolution = '1080p'\n",
    "\n",
    "    # Round fps to the nearest whole number to match against '30' or '60', 24 & 25 are considered 30\n",
    "    if fps <= 30:\n",
    "        frame_rate = '30'\n",
    "    else:\n",
    "        frame_rate = str(round(fps / 30) * 30)\n",
    "\n",
    "    # Use resolution and frame rate to get the correct settings from the dictionary\n",
    "    settings = ffmpeg_settings.get(resolution, {}).get(str(frame_rate), {}).get(codec, {}).get(quality)\n",
    "\n",
    "\n",
    "    print(settings)\n",
    "\n",
    "    return settings"
   ]
  },
  {
   "cell_type": "code",
   "execution_count": 7,
   "metadata": {},
   "outputs": [
    {
     "data": {
      "text/plain": [
       "{'video_codec': 'h264',\n",
       " 'dimensions': '3840x2160',\n",
       " 'bitrate_mbps': 104.5,\n",
       " 'fps': 29.97,\n",
       " 'duration_str': '0:00:16.249567',\n",
       " 'size_mb': 212.2}"
      ]
     },
     "execution_count": 7,
     "metadata": {},
     "output_type": "execute_result"
    }
   ],
   "source": [
    "get_video_info(testfile)"
   ]
  },
  {
   "cell_type": "code",
   "execution_count": 14,
   "metadata": {},
   "outputs": [
    {
     "name": "stdout",
     "output_type": "stream",
     "text": [
      "3840 2160\n"
     ]
    },
    {
     "ename": "NameError",
     "evalue": "name 'codec' is not defined",
     "output_type": "error",
     "traceback": [
      "\u001b[0;31m---------------------------------------------------------------------------\u001b[0m",
      "\u001b[0;31mNameError\u001b[0m                                 Traceback (most recent call last)",
      "\u001b[1;32m/Users/bachagabriel/Coding/ApplicationsSaved/compress_videos/test.ipynb Cell 4\u001b[0m line \u001b[0;36m1\n\u001b[0;32m----> <a href='vscode-notebook-cell:/Users/bachagabriel/Coding/ApplicationsSaved/compress_videos/test.ipynb#W2sZmlsZQ%3D%3D?line=0'>1</a>\u001b[0m get_export_settings(testfile)\n",
      "\u001b[1;32m/Users/bachagabriel/Coding/ApplicationsSaved/compress_videos/test.ipynb Cell 4\u001b[0m line \u001b[0;36m8\n\u001b[1;32m     <a href='vscode-notebook-cell:/Users/bachagabriel/Coding/ApplicationsSaved/compress_videos/test.ipynb#W2sZmlsZQ%3D%3D?line=83'>84</a>\u001b[0m     frame_rate \u001b[39m=\u001b[39m \u001b[39mstr\u001b[39m(\u001b[39mround\u001b[39m(fps \u001b[39m/\u001b[39m \u001b[39m30\u001b[39m) \u001b[39m*\u001b[39m \u001b[39m30\u001b[39m)\n\u001b[1;32m     <a href='vscode-notebook-cell:/Users/bachagabriel/Coding/ApplicationsSaved/compress_videos/test.ipynb#W2sZmlsZQ%3D%3D?line=85'>86</a>\u001b[0m \u001b[39m# Use resolution and frame rate to get the correct settings from the dictionary\u001b[39;00m\n\u001b[0;32m---> <a href='vscode-notebook-cell:/Users/bachagabriel/Coding/ApplicationsSaved/compress_videos/test.ipynb#W2sZmlsZQ%3D%3D?line=86'>87</a>\u001b[0m settings \u001b[39m=\u001b[39m ffmpeg_settings\u001b[39m.\u001b[39mget(resolution, {})\u001b[39m.\u001b[39mget(\u001b[39mstr\u001b[39m(frame_rate), {})\u001b[39m.\u001b[39mget(codec, {})\u001b[39m.\u001b[39mget(quality)\n\u001b[1;32m     <a href='vscode-notebook-cell:/Users/bachagabriel/Coding/ApplicationsSaved/compress_videos/test.ipynb#W2sZmlsZQ%3D%3D?line=89'>90</a>\u001b[0m \u001b[39mprint\u001b[39m(settings)\n\u001b[1;32m     <a href='vscode-notebook-cell:/Users/bachagabriel/Coding/ApplicationsSaved/compress_videos/test.ipynb#W2sZmlsZQ%3D%3D?line=91'>92</a>\u001b[0m \u001b[39mreturn\u001b[39;00m settings\n",
      "\u001b[0;31mNameError\u001b[0m: name 'codec' is not defined"
     ]
    }
   ],
   "source": [
    "get_export_settings(testfile)"
   ]
  }
 ],
 "metadata": {
  "kernelspec": {
   "display_name": ".venv",
   "language": "python",
   "name": "python3"
  },
  "language_info": {
   "codemirror_mode": {
    "name": "ipython",
    "version": 3
   },
   "file_extension": ".py",
   "mimetype": "text/x-python",
   "name": "python",
   "nbconvert_exporter": "python",
   "pygments_lexer": "ipython3",
   "version": "3.11.6"
  }
 },
 "nbformat": 4,
 "nbformat_minor": 2
}
