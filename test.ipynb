{
 "cells": [
  {
   "cell_type": "code",
   "execution_count": 9,
   "metadata": {},
   "outputs": [
    {
     "name": "stdout",
     "output_type": "stream",
     "text": [
      "Pulling video information...\n",
      "ffprobe -v error -select_streams v:0 -show_entries stream=codec_name,width,height,bit_rate,r_frame_rate -show_entries format=duration,size -of default=noprint_wrappers=1:nokey=1 /Users/bachagabriel/Download/ALL_VIDEO_TESTS/VIDEO_TEST/DJI_0021.MP4\n",
      "Getting export settings...\n"
     ]
    }
   ],
   "source": [
    "import compress_vid  \n",
    "import importlib\n",
    "importlib.reload(compress_vid)\n",
    "\n",
    "from compress_vid import *\n",
    "\n",
    "testfile=\"/Users/bachagabriel/Download/ALL_VIDEO_TESTS/VIDEO_TEST/DJI_0021.MP4\"\n",
    "testdir=\"/Users/bachagabriel/Download/ALL_VIDEO_TESTS/VIDEO_TEST\"\n",
    "\n",
    "# set_new_rating(testfile, \"5\")\n",
    "\n",
    "\n",
    "a = get_export_bitrate(get_video_info(testfile))"
   ]
  },
  {
   "cell_type": "code",
   "execution_count": 10,
   "metadata": {},
   "outputs": [
    {
     "name": "stdout",
     "output_type": "stream",
     "text": [
      "vt_h265\n",
      "Converting video...\n",
      "HandBrakeCLI -i /Users/bachagabriel/Download/ALL_VIDEO_TESTS/VIDEO_TEST/DJI_0021.MP4 -o /Users/bachagabriel/Download/ALL_VIDEO_TESTS/VIDEO_TEST/DJI_0021 2.mp4 -e vt_h265 -b 60000.0 -f mp4 --encopts keyint=60 --optimize --cfr --keep-display-aspect\n",
      "FAKE PROCESSED /Users/bachagabriel/Download/ALL_VIDEO_TESTS/VIDEO_TEST/DJI_0021.MP4\n",
      "Pulling video information...\n",
      "ffprobe -v error -select_streams v:0 -show_entries stream=codec_name,width,height,bit_rate,r_frame_rate -show_entries format=duration,size -of default=noprint_wrappers=1:nokey=1 /Users/bachagabriel/Download/ALL_VIDEO_TESTS/VIDEO_TEST/DJI_0021.MP4\n",
      "{'video_codec': 'h264', 'dimensions': '3840x2160', 'video_bitrate': 104.5, 'fps': 29.97, 'duration_str': '0:00:16.249567', 'size_mb': 212.2, 'rating': '5'}\n"
     ]
    }
   ],
   "source": [
    "print(str(a['codec']))\n",
    "\n",
    "convert_video_handbrake(testfile,a)"
   ]
  }
 ],
 "metadata": {
  "kernelspec": {
   "display_name": ".venv",
   "language": "python",
   "name": "python3"
  },
  "language_info": {
   "codemirror_mode": {
    "name": "ipython",
    "version": 3
   },
   "file_extension": ".py",
   "mimetype": "text/x-python",
   "name": "python",
   "nbconvert_exporter": "python",
   "pygments_lexer": "ipython3",
   "version": "3.11.6"
  }
 },
 "nbformat": 4,
 "nbformat_minor": 2
}
